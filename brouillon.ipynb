{
 "cells": [
  {
   "cell_type": "code",
   "execution_count": 3,
   "id": "8c90ef84-e580-4d57-9454-50c6e2752628",
   "metadata": {},
   "outputs": [
    {
     "name": "stdout",
     "output_type": "stream",
     "text": [
      "Requirement already satisfied: webdriver-manager in /opt/mamba/lib/python3.10/site-packages (4.0.1)\n",
      "Requirement already satisfied: requests in /opt/mamba/lib/python3.10/site-packages (from webdriver-manager) (2.31.0)\n",
      "Requirement already satisfied: python-dotenv in /opt/mamba/lib/python3.10/site-packages (from webdriver-manager) (1.0.0)\n",
      "Requirement already satisfied: packaging in /opt/mamba/lib/python3.10/site-packages (from webdriver-manager) (23.1)\n",
      "Requirement already satisfied: charset-normalizer<4,>=2 in /opt/mamba/lib/python3.10/site-packages (from requests->webdriver-manager) (3.2.0)\n",
      "Requirement already satisfied: idna<4,>=2.5 in /opt/mamba/lib/python3.10/site-packages (from requests->webdriver-manager) (3.4)\n",
      "Requirement already satisfied: urllib3<3,>=1.21.1 in /opt/mamba/lib/python3.10/site-packages (from requests->webdriver-manager) (1.26.18)\n",
      "Requirement already satisfied: certifi>=2017.4.17 in /opt/mamba/lib/python3.10/site-packages (from requests->webdriver-manager) (2023.11.17)\n"
     ]
    }
   ],
   "source": [
    "!pip install -q lxml\n",
    "!pip install webdriver-manager\n",
    "\n",
    "import bs4\n",
    "import lxml\n",
    "import pandas\n",
    "import urllib\n",
    "\n",
    "from urllib import request\n",
    "\n"
   ]
  },
  {
   "cell_type": "code",
   "execution_count": 4,
   "id": "1683f7e7-226e-43f9-9e9f-2eed1823e26d",
   "metadata": {},
   "outputs": [],
   "source": [
    "url_ligue_1 = \"https://fr.wikipedia.org/wiki/Championnat_de_France_de_football_2019-2020\"\n",
    "    \n",
    "request_text = request.urlopen(url_ligue_1).read()\n",
    "#print(request_text[:1000])\n",
    "page = bs4.BeautifulSoup(request_text, \"lxml\")\n"
   ]
  },
  {
   "cell_type": "code",
   "execution_count": 5,
   "id": "4fb077cb-9e18-42fb-97ab-2a40a76a71ca",
   "metadata": {},
   "outputs": [
    {
     "name": "stdout",
     "output_type": "stream",
     "text": [
      "<title>Championnat de France de football 2019-2020 — Wikipédia</title>\n"
     ]
    }
   ],
   "source": [
    "print(page.find(\"title\"))"
   ]
  },
  {
   "cell_type": "code",
   "execution_count": 6,
   "id": "476224f2-eb71-4917-949f-d19c3b4498a1",
   "metadata": {},
   "outputs": [],
   "source": [
    "#trouver le tableau\n",
    "# on identifie le tableau en question : c'est le premier qui a cette classe \"wikitable sortable\"\n",
    "tableau_participants = page.find('table', {'class' : 'wikitable sortable'})\n",
    "#print(tableau_participants)"
   ]
  },
  {
   "cell_type": "code",
   "execution_count": null,
   "id": "302d7cb1-ed89-4ca0-8ffa-d238e9cff4c9",
   "metadata": {},
   "outputs": [],
   "source": [
    "#On recherche d’abord toutes les lignes du tableau avec la balise tr\n",
    "table_body = tableau_participants.find('tbody')\n",
    "rows = table_body.find_all('tr')"
   ]
  },
  {
   "cell_type": "code",
   "execution_count": null,
   "id": "c18bd125-a581-4b6c-b209-0b12bba877bf",
   "metadata": {},
   "outputs": [],
   "source": [
    "#On obtient une liste où chaque élément est une des lignes du tableau Pour illustrer cela, on va d’abord afficher la première ligne. \n",
    "#print(rows[0])"
   ]
  },
  {
   "cell_type": "code",
   "execution_count": null,
   "id": "c11b02a7-3110-4c07-b32c-25cf03127391",
   "metadata": {},
   "outputs": [],
   "source": [
    "#La seconde ligne\n",
    "#print(rows[1])"
   ]
  },
  {
   "cell_type": "code",
   "execution_count": null,
   "id": "8962c818-d9c0-45be-a82e-8fde7040263c",
   "metadata": {},
   "outputs": [],
   "source": [
    "# EXEMPLE Nettoyer les sorties en ne gardant que le texte sur une ligne\n",
    "cols = rows[1].find_all('td')\n",
    "#print(cols[0])\n",
    "#print(cols[0].text.strip())\n",
    "for ele in cols : \n",
    "    #print(ele.text.strip())"
   ]
  },
  {
   "cell_type": "code",
   "execution_count": null,
   "id": "b2e93f1d-8f57-40b1-9d2a-b045ca3b3a36",
   "metadata": {},
   "outputs": [],
   "source": [
    "# GENERALISATION\n",
    "for row in rows:\n",
    "    cols = row.find_all('td')\n",
    "    cols = [ele.text.strip() for ele in cols]\n",
    "    print(cols)"
   ]
  },
  {
   "cell_type": "code",
   "execution_count": null,
   "id": "a736337f-1694-4605-8e7b-1641c3af08c7",
   "metadata": {},
   "outputs": [],
   "source": [
    "#On va mettre tout le contenu dans un dictionnaire, pour le transformer ensuite en DataFrame pandas :\n",
    "dico_participants = dict()\n",
    "for row in rows:\n",
    "    cols = row.find_all('td')\n",
    "    cols = [ele.text.strip() for ele in cols]\n",
    "    if len(cols) > 0 : \n",
    "        dico_participants[cols[0]] = cols[1:]\n",
    "dico_participants"
   ]
  },
  {
   "cell_type": "code",
   "execution_count": null,
   "id": "22bfd7af-2f02-491c-842e-37ea0709c344",
   "metadata": {},
   "outputs": [],
   "source": [
    "# Formation nouveau tableau\n",
    "data_participants = pandas.DataFrame.from_dict(dico_participants,orient='index')\n",
    "data_participants.head()"
   ]
  },
  {
   "cell_type": "code",
   "execution_count": null,
   "id": "4692087f-1e1f-4aa5-96a9-ac761e4960b1",
   "metadata": {},
   "outputs": [],
   "source": [
    "# récupération entête"
   ]
  }
 ],
 "metadata": {
  "kernelspec": {
   "display_name": "Python 3 (ipykernel)",
   "language": "python",
   "name": "python3"
  },
  "language_info": {
   "codemirror_mode": {
    "name": "ipython",
    "version": 3
   },
   "file_extension": ".py",
   "mimetype": "text/x-python",
   "name": "python",
   "nbconvert_exporter": "python",
   "pygments_lexer": "ipython3",
   "version": "3.10.13"
  }
 },
 "nbformat": 4,
 "nbformat_minor": 5
}
