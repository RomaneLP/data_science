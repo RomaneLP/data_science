{
 "cells": [
  {
   "cell_type": "code",
   "execution_count": 1,
   "id": "8c90ef84-e580-4d57-9454-50c6e2752628",
   "metadata": {},
   "outputs": [
    {
     "name": "stdout",
     "output_type": "stream",
     "text": [
      "Collecting webdriver-manager\n",
      "  Downloading webdriver_manager-4.0.1-py2.py3-none-any.whl.metadata (12 kB)\n",
      "Requirement already satisfied: requests in /opt/mamba/lib/python3.10/site-packages (from webdriver-manager) (2.31.0)\n",
      "Collecting python-dotenv (from webdriver-manager)\n",
      "  Downloading python_dotenv-1.0.0-py3-none-any.whl (19 kB)\n",
      "Requirement already satisfied: packaging in /opt/mamba/lib/python3.10/site-packages (from webdriver-manager) (23.1)\n",
      "Requirement already satisfied: charset-normalizer<4,>=2 in /opt/mamba/lib/python3.10/site-packages (from requests->webdriver-manager) (3.2.0)\n",
      "Requirement already satisfied: idna<4,>=2.5 in /opt/mamba/lib/python3.10/site-packages (from requests->webdriver-manager) (3.4)\n",
      "Requirement already satisfied: urllib3<3,>=1.21.1 in /opt/mamba/lib/python3.10/site-packages (from requests->webdriver-manager) (1.26.18)\n",
      "Requirement already satisfied: certifi>=2017.4.17 in /opt/mamba/lib/python3.10/site-packages (from requests->webdriver-manager) (2023.11.17)\n",
      "Downloading webdriver_manager-4.0.1-py2.py3-none-any.whl (27 kB)\n",
      "Installing collected packages: python-dotenv, webdriver-manager\n",
      "Successfully installed python-dotenv-1.0.0 webdriver-manager-4.0.1\n"
     ]
    }
   ],
   "source": [
    "!pip install -q lxml\n",
    "!pip install webdriver-manager\n",
    "\n",
    "import bs4\n",
    "import lxml\n",
    "import pandas\n",
    "import urllib\n",
    "\n",
    "from urllib import request\n",
    "\n"
   ]
  },
  {
   "cell_type": "code",
   "execution_count": 2,
   "id": "1683f7e7-226e-43f9-9e9f-2eed1823e26d",
   "metadata": {},
   "outputs": [],
   "source": [
    "url_ligue_1 = \"https://fr.wikipedia.org/wiki/Championnat_de_France_de_football_2019-2020\"\n",
    "    \n",
    "request_text = request.urlopen(url_ligue_1).read()\n",
    "#print(request_text[:1000])\n",
    "page = bs4.BeautifulSoup(request_text, \"lxml\")\n"
   ]
  },
  {
   "cell_type": "code",
   "execution_count": 3,
   "id": "4fb077cb-9e18-42fb-97ab-2a40a76a71ca",
   "metadata": {},
   "outputs": [
    {
     "name": "stdout",
     "output_type": "stream",
     "text": [
      "<title>Championnat de France de football 2019-2020 — Wikipédia</title>\n"
     ]
    }
   ],
   "source": [
    "print(page.find(\"title\"))"
   ]
  },
  {
   "cell_type": "code",
   "execution_count": 4,
   "id": "476224f2-eb71-4917-949f-d19c3b4498a1",
   "metadata": {},
   "outputs": [],
   "source": [
    "#trouver le tableau\n",
    "# on identifie le tableau en question : c'est le premier qui a cette classe \"wikitable sortable\"\n",
    "tableau_participants = page.find('table', {'class' : 'wikitable sortable'})\n",
    "#print(tableau_participants)"
   ]
  },
  {
   "cell_type": "code",
   "execution_count": 5,
   "id": "302d7cb1-ed89-4ca0-8ffa-d238e9cff4c9",
   "metadata": {},
   "outputs": [],
   "source": [
    "#On recherche d’abord toutes les lignes du tableau avec la balise tr\n",
    "table_body = tableau_participants.find('tbody')\n",
    "rows = table_body.find_all('tr')"
   ]
  },
  {
   "cell_type": "code",
   "execution_count": 6,
   "id": "c18bd125-a581-4b6c-b209-0b12bba877bf",
   "metadata": {},
   "outputs": [],
   "source": [
    "#On obtient une liste où chaque élément est une des lignes du tableau Pour illustrer cela, on va d’abord afficher la première ligne. \n",
    "#print(rows[0])"
   ]
  },
  {
   "cell_type": "code",
   "execution_count": 7,
   "id": "c11b02a7-3110-4c07-b32c-25cf03127391",
   "metadata": {},
   "outputs": [],
   "source": [
    "#La seconde ligne\n",
    "#print(rows[1])"
   ]
  },
  {
   "cell_type": "code",
   "execution_count": 9,
   "id": "8962c818-d9c0-45be-a82e-8fde7040263c",
   "metadata": {},
   "outputs": [
    {
     "name": "stdout",
     "output_type": "stream",
     "text": [
      "<td><a href=\"/wiki/Paris_Saint-Germain_Football_Club\" title=\"Paris Saint-Germain Football Club\">Paris Saint-Germain</a>\n",
      "</td>\n",
      "Paris Saint-Germain\n",
      "Paris Saint-Germain\n",
      "1974\n",
      "637\n",
      "1er\n",
      "Thomas Tuchel\n",
      "2018\n",
      "Parc des Princes\n",
      "47 929\n",
      "46\n"
     ]
    }
   ],
   "source": [
    "# EXEMPLE Nettoyer les sorties en ne gardant que le texte sur une ligne\n",
    "cols = rows[1].find_all('td')\n",
    "print(cols[0])\n",
    "print(cols[0].text.strip())\n",
    "for ele in cols : \n",
    "    print(ele.text.strip())"
   ]
  },
  {
   "cell_type": "code",
   "execution_count": 10,
   "id": "b2e93f1d-8f57-40b1-9d2a-b045ca3b3a36",
   "metadata": {},
   "outputs": [
    {
     "name": "stdout",
     "output_type": "stream",
     "text": [
      "[]\n",
      "['Paris Saint-Germain', '1974', '637', '1er', 'Thomas Tuchel', '2018', 'Parc des Princes', '47\\xa0929', '46']\n",
      "['LOSC Lille', '2000', '120', '2e', 'Christophe Galtier', '2017', 'Stade Pierre-Mauroy', '49\\xa0712', '59']\n",
      "['Olympique lyonnais', '1989', '310', '3e', 'Rudi Garcia', '2019', 'Groupama Stadium', '57\\xa0206', '60']\n",
      "['AS Saint-Étienne', '2004', '100', '4e', 'Claude Puel', '2019', 'Stade Geoffroy-Guichard', '41\\xa0965', '66']\n",
      "['Olympique de Marseille', '1996', '110', '5e', 'André Villas-Boas', '2019', 'Orange Vélodrome', '66\\xa0226', '69']\n",
      "['Montpellier HSC', '2009', '40', '6e', 'Michel Der Zakarian', '2017', 'Stade de la Mosson', '22\\xa0000', '27']\n",
      "['OGC Nice', '2002', '50', '7e', 'Patrick Vieira', '2018', 'Allianz Riviera', '35\\xa0596', '60']\n",
      "['Stade de Reims', '2018', '45', '8e', 'David Guion', '2017', 'Stade Auguste-Delaune', '20\\xa0546', '35']\n",
      "['Nîmes Olympique', '2018', '27', '9e', 'Bernard Blaquart', '2015', 'Stade des Costières', '15\\xa0788', '35']\n",
      "['Stade rennais FC', '1994', '65', '10e', 'Julien Stéphan', '2018', 'Roazhon Park', '29\\xa0194', '62']\n",
      "['RC Strasbourg Alsace', '2017', '43', '11e', 'Thierry Laurey', '2016', 'Stade de la Meinau', '26\\xa0109', '58']\n",
      "['FC Nantes', '2013', '70', '12e', 'Christian Gourcuff', '2019', 'Stade de la Beaujoire - Louis Fonteneau', '35\\xa0322', '51']\n",
      "['SCO d’Angers', '2015', '32', '13e', 'Stéphane Moulin', '2011', 'Stade Raymond-Kopa', '14\\xa0582', '27']\n",
      "['Girondins de Bordeaux', '1992', '70', '14e', 'Paulo Sousa', '2019', 'Matmut Atlantique', '42\\xa0115', '66']\n",
      "['Amiens SC', '2017', '30', '15e', 'Luka Elsner', '2019', 'Stade Crédit Agricole la Licorne', '12\\xa0999', '2']\n",
      "['Toulouse FC', '2003', '35', '16e', 'Denis Zanko', '2020', 'Stadium de Toulouse', '33\\xa0033', '32']\n",
      "['AS Monaco', '2013', '220', '17e', 'Robert Moreno', '2019', 'Stade Louis-II', '16\\xa0500', '60']\n",
      "['Dijon FCO', '2016', '38', '18e', 'Stéphane Jobard', '2019', 'Parc des Sports Gaston-Gérard', '15\\xa0459', '4']\n",
      "['FC Metz', '2019', '40', '1er (Ligue 2)', 'Vincent Hognon', '2019', 'Stade Saint-Symphorien', '25\\xa0865', '61']\n",
      "['Stade brestois 29', '2019', '30', '2e (Ligue 2)', \"Olivier Dall'Oglio\", '2019', 'Stade Francis-Le Blé', '14\\xa0920', '13']\n"
     ]
    }
   ],
   "source": [
    "# GENERALISATION\n",
    "for row in rows:\n",
    "    cols = row.find_all('td')\n",
    "    cols = [ele.text.strip() for ele in cols]\n",
    "    print(cols)"
   ]
  },
  {
   "cell_type": "code",
   "execution_count": 11,
   "id": "a736337f-1694-4605-8e7b-1641c3af08c7",
   "metadata": {},
   "outputs": [
    {
     "data": {
      "text/plain": [
       "{'Paris Saint-Germain': ['1974',\n",
       "  '637',\n",
       "  '1er',\n",
       "  'Thomas Tuchel',\n",
       "  '2018',\n",
       "  'Parc des Princes',\n",
       "  '47\\xa0929',\n",
       "  '46'],\n",
       " 'LOSC Lille': ['2000',\n",
       "  '120',\n",
       "  '2e',\n",
       "  'Christophe Galtier',\n",
       "  '2017',\n",
       "  'Stade Pierre-Mauroy',\n",
       "  '49\\xa0712',\n",
       "  '59'],\n",
       " 'Olympique lyonnais': ['1989',\n",
       "  '310',\n",
       "  '3e',\n",
       "  'Rudi Garcia',\n",
       "  '2019',\n",
       "  'Groupama Stadium',\n",
       "  '57\\xa0206',\n",
       "  '60'],\n",
       " 'AS Saint-Étienne': ['2004',\n",
       "  '100',\n",
       "  '4e',\n",
       "  'Claude Puel',\n",
       "  '2019',\n",
       "  'Stade Geoffroy-Guichard',\n",
       "  '41\\xa0965',\n",
       "  '66'],\n",
       " 'Olympique de Marseille': ['1996',\n",
       "  '110',\n",
       "  '5e',\n",
       "  'André Villas-Boas',\n",
       "  '2019',\n",
       "  'Orange Vélodrome',\n",
       "  '66\\xa0226',\n",
       "  '69'],\n",
       " 'Montpellier HSC': ['2009',\n",
       "  '40',\n",
       "  '6e',\n",
       "  'Michel Der Zakarian',\n",
       "  '2017',\n",
       "  'Stade de la Mosson',\n",
       "  '22\\xa0000',\n",
       "  '27'],\n",
       " 'OGC Nice': ['2002',\n",
       "  '50',\n",
       "  '7e',\n",
       "  'Patrick Vieira',\n",
       "  '2018',\n",
       "  'Allianz Riviera',\n",
       "  '35\\xa0596',\n",
       "  '60'],\n",
       " 'Stade de Reims': ['2018',\n",
       "  '45',\n",
       "  '8e',\n",
       "  'David Guion',\n",
       "  '2017',\n",
       "  'Stade Auguste-Delaune',\n",
       "  '20\\xa0546',\n",
       "  '35'],\n",
       " 'Nîmes Olympique': ['2018',\n",
       "  '27',\n",
       "  '9e',\n",
       "  'Bernard Blaquart',\n",
       "  '2015',\n",
       "  'Stade des Costières',\n",
       "  '15\\xa0788',\n",
       "  '35'],\n",
       " 'Stade rennais FC': ['1994',\n",
       "  '65',\n",
       "  '10e',\n",
       "  'Julien Stéphan',\n",
       "  '2018',\n",
       "  'Roazhon Park',\n",
       "  '29\\xa0194',\n",
       "  '62'],\n",
       " 'RC Strasbourg Alsace': ['2017',\n",
       "  '43',\n",
       "  '11e',\n",
       "  'Thierry Laurey',\n",
       "  '2016',\n",
       "  'Stade de la Meinau',\n",
       "  '26\\xa0109',\n",
       "  '58'],\n",
       " 'FC Nantes': ['2013',\n",
       "  '70',\n",
       "  '12e',\n",
       "  'Christian Gourcuff',\n",
       "  '2019',\n",
       "  'Stade de la Beaujoire - Louis Fonteneau',\n",
       "  '35\\xa0322',\n",
       "  '51'],\n",
       " 'SCO d’Angers': ['2015',\n",
       "  '32',\n",
       "  '13e',\n",
       "  'Stéphane Moulin',\n",
       "  '2011',\n",
       "  'Stade Raymond-Kopa',\n",
       "  '14\\xa0582',\n",
       "  '27'],\n",
       " 'Girondins de Bordeaux': ['1992',\n",
       "  '70',\n",
       "  '14e',\n",
       "  'Paulo Sousa',\n",
       "  '2019',\n",
       "  'Matmut Atlantique',\n",
       "  '42\\xa0115',\n",
       "  '66'],\n",
       " 'Amiens SC': ['2017',\n",
       "  '30',\n",
       "  '15e',\n",
       "  'Luka Elsner',\n",
       "  '2019',\n",
       "  'Stade Crédit Agricole la Licorne',\n",
       "  '12\\xa0999',\n",
       "  '2'],\n",
       " 'Toulouse FC': ['2003',\n",
       "  '35',\n",
       "  '16e',\n",
       "  'Denis Zanko',\n",
       "  '2020',\n",
       "  'Stadium de Toulouse',\n",
       "  '33\\xa0033',\n",
       "  '32'],\n",
       " 'AS Monaco': ['2013',\n",
       "  '220',\n",
       "  '17e',\n",
       "  'Robert Moreno',\n",
       "  '2019',\n",
       "  'Stade Louis-II',\n",
       "  '16\\xa0500',\n",
       "  '60'],\n",
       " 'Dijon FCO': ['2016',\n",
       "  '38',\n",
       "  '18e',\n",
       "  'Stéphane Jobard',\n",
       "  '2019',\n",
       "  'Parc des Sports Gaston-Gérard',\n",
       "  '15\\xa0459',\n",
       "  '4'],\n",
       " 'FC Metz': ['2019',\n",
       "  '40',\n",
       "  '1er (Ligue 2)',\n",
       "  'Vincent Hognon',\n",
       "  '2019',\n",
       "  'Stade Saint-Symphorien',\n",
       "  '25\\xa0865',\n",
       "  '61'],\n",
       " 'Stade brestois 29': ['2019',\n",
       "  '30',\n",
       "  '2e (Ligue 2)',\n",
       "  \"Olivier Dall'Oglio\",\n",
       "  '2019',\n",
       "  'Stade Francis-Le Blé',\n",
       "  '14\\xa0920',\n",
       "  '13']}"
      ]
     },
     "execution_count": 11,
     "metadata": {},
     "output_type": "execute_result"
    }
   ],
   "source": [
    "#On va mettre tout le contenu dans un dictionnaire, pour le transformer ensuite en DataFrame pandas :\n",
    "dico_participants = dict()\n",
    "for row in rows:\n",
    "    cols = row.find_all('td')\n",
    "    cols = [ele.text.strip() for ele in cols]\n",
    "    if len(cols) > 0 : \n",
    "        dico_participants[cols[0]] = cols[1:]\n",
    "dico_participants"
   ]
  },
  {
   "cell_type": "code",
   "execution_count": null,
   "id": "22bfd7af-2f02-491c-842e-37ea0709c344",
   "metadata": {},
   "outputs": [],
   "source": [
    "# Formation nouveau tableau\n",
    "data_participants = pandas.DataFrame.from_dict(dico_participants,orient='index')\n",
    "data_participants.head()"
   ]
  },
  {
   "cell_type": "code",
   "execution_count": null,
   "id": "4692087f-1e1f-4aa5-96a9-ac761e4960b1",
   "metadata": {},
   "outputs": [],
   "source": [
    "# récupération entête\n",
    "for row in rows:\n",
    "    cols = row.find_all('th')\n",
    "    print(cols)\n",
    "    if len(cols) > 0 : \n",
    "        cols = [ele.get_text(separator=' ').strip().title() for ele in cols]\n",
    "        columns_participants = cols"
   ]
  },
  {
   "cell_type": "code",
   "execution_count": null,
   "id": "ad016593-3a1f-4d1a-873d-a02dbef81fb9",
   "metadata": {},
   "outputs": [],
   "source": []
  }
 ],
 "metadata": {
  "kernelspec": {
   "display_name": "Python 3 (ipykernel)",
   "language": "python",
   "name": "python3"
  },
  "language_info": {
   "codemirror_mode": {
    "name": "ipython",
    "version": 3
   },
   "file_extension": ".py",
   "mimetype": "text/x-python",
   "name": "python",
   "nbconvert_exporter": "python",
   "pygments_lexer": "ipython3",
   "version": "3.10.13"
  }
 },
 "nbformat": 4,
 "nbformat_minor": 5
}
