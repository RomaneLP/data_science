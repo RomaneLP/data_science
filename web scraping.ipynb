{
 "cells": [
  {
   "cell_type": "code",
   "execution_count": 1,
   "id": "39e05619-9025-4570-9900-0ec30af8ea61",
   "metadata": {},
   "outputs": [
    {
     "name": "stdout",
     "output_type": "stream",
     "text": [
      "Collecting webdriver-manager\n",
      "  Downloading webdriver_manager-4.0.1-py2.py3-none-any.whl.metadata (12 kB)\n",
      "Requirement already satisfied: requests in /opt/mamba/lib/python3.10/site-packages (from webdriver-manager) (2.31.0)\n",
      "Collecting python-dotenv (from webdriver-manager)\n",
      "  Downloading python_dotenv-1.0.0-py3-none-any.whl (19 kB)\n",
      "Requirement already satisfied: packaging in /opt/mamba/lib/python3.10/site-packages (from webdriver-manager) (23.1)\n",
      "Requirement already satisfied: charset-normalizer<4,>=2 in /opt/mamba/lib/python3.10/site-packages (from requests->webdriver-manager) (3.2.0)\n",
      "Requirement already satisfied: idna<4,>=2.5 in /opt/mamba/lib/python3.10/site-packages (from requests->webdriver-manager) (3.4)\n",
      "Requirement already satisfied: urllib3<3,>=1.21.1 in /opt/mamba/lib/python3.10/site-packages (from requests->webdriver-manager) (1.26.18)\n",
      "Requirement already satisfied: certifi>=2017.4.17 in /opt/mamba/lib/python3.10/site-packages (from requests->webdriver-manager) (2023.11.17)\n",
      "Downloading webdriver_manager-4.0.1-py2.py3-none-any.whl (27 kB)\n",
      "Installing collected packages: python-dotenv, webdriver-manager\n",
      "Successfully installed python-dotenv-1.0.0 webdriver-manager-4.0.1\n"
     ]
    }
   ],
   "source": [
    "!pip install -q lxml\n",
    "!pip install webdriver-manager\n",
    "\n",
    "import bs4\n",
    "import lxml\n",
    "import pandas as pd\n",
    "import urllib\n",
    "\n",
    "from urllib import request"
   ]
  },
  {
   "cell_type": "code",
   "execution_count": 16,
   "id": "f7e2e1a3-37a9-4a27-adce-21ec6e282c46",
   "metadata": {},
   "outputs": [],
   "source": [
    "url_match=\"http://bkref.com/pi/shareit/WumlT\"\n",
    "titre = 'Orlando'\n",
    "result = 1"
   ]
  },
  {
   "cell_type": "code",
   "execution_count": 17,
   "id": "91fb09d4-bc2a-40c6-9ae1-7e67dbaaca50",
   "metadata": {},
   "outputs": [
    {
     "name": "stdout",
     "output_type": "stream",
     "text": [
      "                       MP FG FGA    FG% 3P 3PA   3P% FT FTA    FT%  ... DRB  \\\n",
      "Paolo Banchero      27:54  3   6   .500  0   1  .000  6   7   .857  ...   5   \n",
      "Franz Wagner        27:03  5  12   .417  3   7  .429  6   6  1.000  ...   1   \n",
      "Wendell Carter Jr.  26:55  4  10   .400  0   2  .000  0   0         ...   4   \n",
      "Markelle Fultz      24:31  5   9   .556  0   0        0   0         ...   1   \n",
      "Jalen Suggs         20:51  3  12   .250  2   7  .286  0   0         ...   3   \n",
      "Cole Anthony        24:05  8  12   .667  1   2  .500  3   3  1.000  ...   7   \n",
      "Joe Ingles          18:14  0   3   .000  0   3  .000  0   0         ...   4   \n",
      "Gary Harris         16:57  5   8   .625  1   4  .250  0   0         ...   2   \n",
      "Moritz Wagner       15:21  0   1   .000  0   1  .000  2   2  1.000  ...   4   \n",
      "Jonathan Isaac      14:09  4   6   .667  1   3  .333  2   3   .667  ...   3   \n",
      "Goga Bitadze         4:48  2   2  1.000  0   0        3   4   .750  ...   2   \n",
      "Anthony Black        4:48  2   2  1.000  0   0        1   1  1.000  ...   0   \n",
      "Caleb Houstan        4:48  1   2   .500  1   2  .500  0   0         ...   1   \n",
      "Jett Howard          4:48  0   1   .000  0   1  .000  0   0         ...   0   \n",
      "Chuma Okeke          4:48  0   1   .000  0   1  .000  0   0         ...   3   \n",
      "\n",
      "                   TRB AST STL BLK TOV PF PTS  +/- Résultat  \n",
      "Paolo Banchero       5   5   1   0   1  2  12  +13        1  \n",
      "Franz Wagner         4   2   1   0   3  1  19  +10        1  \n",
      "Wendell Carter Jr.   8   1   2   0   2  3   8   +8        1  \n",
      "Markelle Fultz       4   2   3   0   1  0  10  +12        1  \n",
      "Jalen Suggs          4   0   0   0   0  2   8   +5        1  \n",
      "Cole Anthony         8   2   0   0   0  2  20  +17        1  \n",
      "Joe Ingles           4   5   0   0   1  3   0   +9        1  \n",
      "Gary Harris          5   0   0   1   0  0  11   +8        1  \n",
      "Moritz Wagner        4   0   0   1   3  4   2  +13        1  \n",
      "Jonathan Isaac       4   0   0   2   2  2  11  +10        1  \n",
      "Goga Bitadze         3   0   1   0   1  1   7   +9        1  \n",
      "Anthony Black        0   1   0   2   0  0   5   +9        1  \n",
      "Caleb Houstan        1   0   0   0   0  0   3   +9        1  \n",
      "Jett Howard          0   1   0   0   0  0   0   +9        1  \n",
      "Chuma Okeke          3   0   0   0   0  0   0   +9        1  \n",
      "\n",
      "[15 rows x 21 columns]\n"
     ]
    }
   ],
   "source": [
    "\n",
    "request_text = request.urlopen(url_match).read()\n",
    "#print(request_text[:1000])\n",
    "page = bs4.BeautifulSoup(request_text, \"lxml\")\n",
    "#print(page)\n",
    "\n",
    "tableau_match = page.find('table', {'class' : 'sortable stats_table now_sortable modifying'})\n",
    "#print(tableau_match)\n",
    "\n",
    "table_body = tableau_match.find('tbody')\n",
    "rows = table_body.find_all('tr')\n",
    "#print(rows[1])\n",
    "\n",
    "for row in rows:\n",
    "    cols = row.find_all('td')\n",
    "    cols = [ele.text.strip() for ele in cols]\n",
    "    #print(cols)\n",
    "\n",
    "dico_participants = dict()\n",
    "for row in rows:\n",
    "    nom = row.find_all('th')\n",
    "    nom = [ele.text.strip() for ele in nom]\n",
    "    cols = row.find_all('td')\n",
    "    cols = [ele.text.strip() for ele in cols]\n",
    "    cols = nom + cols\n",
    "    if len(cols) > 0 : \n",
    "        dico_participants[cols[0]] = cols[1:]\n",
    "#dico_participants\n",
    "\n",
    "table_head = tableau_match.find('thead')\n",
    "titres_col = table_head.find_all('th')\n",
    "titres_col = [ele.text.strip() for ele in titres_col[3:]]\n",
    "#print(titres_col)\n",
    "\n",
    "data_participants = pd.DataFrame.from_dict(dico_participants,orient='index', columns = titres_col)\n",
    "data_participants['Résultat'] = [result for index in range(data_participants.shape[0])]\n",
    "data_participants.to_csv('data/'+titre+'_Stats.csv')\n",
    "print(data_participants)"
   ]
  },
  {
   "cell_type": "code",
   "execution_count": null,
   "id": "d4c21fd5-f66e-4a0f-b69b-bd83d256ef19",
   "metadata": {},
   "outputs": [],
   "source": []
  }
 ],
 "metadata": {
  "kernelspec": {
   "display_name": "Python 3 (ipykernel)",
   "language": "python",
   "name": "python3"
  },
  "language_info": {
   "codemirror_mode": {
    "name": "ipython",
    "version": 3
   },
   "file_extension": ".py",
   "mimetype": "text/x-python",
   "name": "python",
   "nbconvert_exporter": "python",
   "pygments_lexer": "ipython3",
   "version": "3.10.13"
  }
 },
 "nbformat": 4,
 "nbformat_minor": 5
}
