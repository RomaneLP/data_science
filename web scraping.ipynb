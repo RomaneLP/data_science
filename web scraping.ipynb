{
 "cells": [
  {
   "cell_type": "code",
   "execution_count": 5,
   "id": "39e05619-9025-4570-9900-0ec30af8ea61",
   "metadata": {},
   "outputs": [
    {
     "name": "stdout",
     "output_type": "stream",
     "text": [
      "Requirement already satisfied: webdriver-manager in /opt/mamba/lib/python3.10/site-packages (4.0.1)\n",
      "Requirement already satisfied: requests in /opt/mamba/lib/python3.10/site-packages (from webdriver-manager) (2.31.0)\n",
      "Requirement already satisfied: python-dotenv in /opt/mamba/lib/python3.10/site-packages (from webdriver-manager) (1.0.0)\n",
      "Requirement already satisfied: packaging in /opt/mamba/lib/python3.10/site-packages (from webdriver-manager) (23.1)\n",
      "Requirement already satisfied: charset-normalizer<4,>=2 in /opt/mamba/lib/python3.10/site-packages (from requests->webdriver-manager) (3.2.0)\n",
      "Requirement already satisfied: idna<4,>=2.5 in /opt/mamba/lib/python3.10/site-packages (from requests->webdriver-manager) (3.4)\n",
      "Requirement already satisfied: urllib3<3,>=1.21.1 in /opt/mamba/lib/python3.10/site-packages (from requests->webdriver-manager) (1.26.18)\n",
      "Requirement already satisfied: certifi>=2017.4.17 in /opt/mamba/lib/python3.10/site-packages (from requests->webdriver-manager) (2023.11.17)\n"
     ]
    }
   ],
   "source": [
    "!pip install -q lxml\n",
    "!pip install webdriver-manager\n",
    "\n",
    "import bs4\n",
    "import lxml\n",
    "import pandas as pd\n",
    "import urllib\n",
    "\n",
    "from urllib import request"
   ]
  },
  {
   "cell_type": "code",
   "execution_count": 28,
   "id": "f7e2e1a3-37a9-4a27-adce-21ec6e282c46",
   "metadata": {},
   "outputs": [],
   "source": [
    "url_match=\"http://bkref.com/pi/shareit/X8Wwh\"\n",
    "titre = 'Loa Angeles'\n",
    "result = 1"
   ]
  },
  {
   "cell_type": "code",
   "execution_count": 29,
   "id": "91fb09d4-bc2a-40c6-9ae1-7e67dbaaca50",
   "metadata": {},
   "outputs": [
    {
     "name": "stdout",
     "output_type": "stream",
     "text": [
      "                      MP  FG FGA   FG% 3P 3PA    3P% FT FTA    FT%  ... DRB  \\\n",
      "Paul George        31:38  11  17  .647  4   7   .571  1   1  1.000  ...   3   \n",
      "Russell Westbrook  28:48   5   8  .625  1   2   .500  0   0         ...   3   \n",
      "Kawhi Leonard      28:43   9  17  .529  5   5  1.000  0   0         ...   4   \n",
      "Ivica Zubac        25:36   8  10  .800  0   0         4   5   .800  ...   7   \n",
      "Robert Covington   23:10   2   5  .400  1   4   .250  0   0         ...   3   \n",
      "Norman Powell      22:54   2   6  .333  2   5   .400  2   2  1.000  ...   3   \n",
      "Bones Hyland       21:45   6  11  .545  3   8   .375  2   2  1.000  ...   0   \n",
      "Mason Plumlee      17:31   2   4  .500  0   0         2   4   .500  ...   5   \n",
      "KJ Martin          13:35   0   4  .000  0   2   .000  0   0         ...   0   \n",
      "Nicolas Batum       9:08   0   0        0   0         0   0         ...   3   \n",
      "Kobe Brown          5:18   0   2  .000  0   1   .000  0   0         ...   0   \n",
      "Moussa Diabaté      4:02   1   3  .333  0   0         0   0         ...   0   \n",
      "Amir Coffey         3:56   0   1  .000  0   0         2   2  1.000  ...   0   \n",
      "Jordan Miller       3:56   1   2  .500  0   0         0   0         ...   0   \n",
      "\n",
      "                  TRB AST STL BLK TOV PF PTS  +/- Résultat  \n",
      "Paul George         3   6   3   0   4  2  27  +23        1  \n",
      "Russell Westbrook   5  13   0   0   3  3  11  +30        1  \n",
      "Kawhi Leonard       5   6   1   1   4  2  23  +25        1  \n",
      "Ivica Zubac        12   0   0   4   2  3  20  +25        1  \n",
      "Robert Covington    4   2   3   1   0  2   5  +26        1  \n",
      "Norman Powell       3   1   0   0   2  0   8   -4        1  \n",
      "Bones Hyland        0   3   0   0   2  4  17   -4        1  \n",
      "Mason Plumlee       8   2   0   0   0  0   6   -6        1  \n",
      "KJ Martin           1   1   1   0   0  2   0  -17        1  \n",
      "Nicolas Batum       3   1   1   1   0  0   0   -2        1  \n",
      "Kobe Brown          0   0   0   0   0  1   0  -12        1  \n",
      "Moussa Diabaté      1   0   2   0   0  0   2  -10        1  \n",
      "Amir Coffey         0   1   0   0   0  0   2   -7        1  \n",
      "Jordan Miller       0   0   0   0   0  1   2   -7        1  \n",
      "\n",
      "[14 rows x 21 columns]\n"
     ]
    }
   ],
   "source": [
    "\n",
    "request_text = request.urlopen(url_match).read()\n",
    "#print(request_text[:1000])\n",
    "page = bs4.BeautifulSoup(request_text, \"lxml\")\n",
    "#print(page)\n",
    "\n",
    "tableau_match = page.find('table', {'class' : 'sortable stats_table now_sortable modifying'})\n",
    "#print(tableau_match)\n",
    "\n",
    "table_body = tableau_match.find('tbody')\n",
    "rows = table_body.find_all('tr')\n",
    "#print(rows[1])\n",
    "\n",
    "for row in rows:\n",
    "    cols = row.find_all('td')\n",
    "    cols = [ele.text.strip() for ele in cols]\n",
    "    #print(cols)\n",
    "\n",
    "dico_participants = dict()\n",
    "for row in rows:\n",
    "    nom = row.find_all('th')\n",
    "    nom = [ele.text.strip() for ele in nom]\n",
    "    cols = row.find_all('td')\n",
    "    cols = [ele.text.strip() for ele in cols]\n",
    "    cols = nom + cols\n",
    "    if len(cols) > 0 : \n",
    "        dico_participants[cols[0]] = cols[1:]\n",
    "#dico_participants\n",
    "\n",
    "table_head = tableau_match.find('thead')\n",
    "titres_col = table_head.find_all('th')\n",
    "titres_col = [ele.text.strip() for ele in titres_col[3:]]\n",
    "#print(titres_col)\n",
    "\n",
    "data_participants = pd.DataFrame.from_dict(dico_participants,orient='index', columns = titres_col)\n",
    "data_participants['Résultat'] = [result for index in range(data_participants.shape[0])]\n",
    "data_participants.to_csv('data/'+titre+'_Stats.csv')\n",
    "print(data_participants)"
   ]
  },
  {
   "cell_type": "code",
   "execution_count": null,
   "id": "e07de84b-c23c-4bb9-b92a-0fe459668603",
   "metadata": {},
   "outputs": [],
   "source": []
  },
  {
   "cell_type": "code",
   "execution_count": null,
   "id": "a07caf90-2384-4533-9738-d2eb0bc4f5d2",
   "metadata": {},
   "outputs": [],
   "source": []
  }
 ],
 "metadata": {
  "kernelspec": {
   "display_name": "Python 3 (ipykernel)",
   "language": "python",
   "name": "python3"
  },
  "language_info": {
   "codemirror_mode": {
    "name": "ipython",
    "version": 3
   },
   "file_extension": ".py",
   "mimetype": "text/x-python",
   "name": "python",
   "nbconvert_exporter": "python",
   "pygments_lexer": "ipython3",
   "version": "3.10.13"
  }
 },
 "nbformat": 4,
 "nbformat_minor": 5
}
