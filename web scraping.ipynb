{
 "cells": [
  {
   "cell_type": "code",
   "execution_count": null,
   "id": "39e05619-9025-4570-9900-0ec30af8ea61",
   "metadata": {},
   "outputs": [],
   "source": [
    "!pip install -q lxml\n",
    "!pip install webdriver-manager\n",
    "\n",
    "import bs4\n",
    "import lxml\n",
    "import pandas\n",
    "import urllib\n",
    "\n",
    "from urllib import request"
   ]
  },
  {
   "cell_type": "code",
   "execution_count": null,
   "id": "91fb09d4-bc2a-40c6-9ae1-7e67dbaaca50",
   "metadata": {},
   "outputs": [],
   "source": [
    "url_match=\"https://viziball.app/game/nba/en/Spurs/Clippers/20231122\""
   ]
  }
 ],
 "metadata": {
  "kernelspec": {
   "display_name": "Python 3 (ipykernel)",
   "language": "python",
   "name": "python3"
  },
  "language_info": {
   "codemirror_mode": {
    "name": "ipython",
    "version": 3
   },
   "file_extension": ".py",
   "mimetype": "text/x-python",
   "name": "python",
   "nbconvert_exporter": "python",
   "pygments_lexer": "ipython3",
   "version": "3.10.13"
  }
 },
 "nbformat": 4,
 "nbformat_minor": 5
}
