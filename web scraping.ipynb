{
 "cells": [
  {
   "cell_type": "code",
   "execution_count": 1,
   "id": "39e05619-9025-4570-9900-0ec30af8ea61",
   "metadata": {},
   "outputs": [
    {
     "name": "stdout",
     "output_type": "stream",
     "text": [
      "Collecting webdriver-manager\n",
      "  Downloading webdriver_manager-4.0.1-py2.py3-none-any.whl.metadata (12 kB)\n",
      "Requirement already satisfied: requests in /opt/mamba/lib/python3.10/site-packages (from webdriver-manager) (2.31.0)\n",
      "Collecting python-dotenv (from webdriver-manager)\n",
      "  Downloading python_dotenv-1.0.0-py3-none-any.whl (19 kB)\n",
      "Requirement already satisfied: packaging in /opt/mamba/lib/python3.10/site-packages (from webdriver-manager) (23.1)\n",
      "Requirement already satisfied: charset-normalizer<4,>=2 in /opt/mamba/lib/python3.10/site-packages (from requests->webdriver-manager) (3.2.0)\n",
      "Requirement already satisfied: idna<4,>=2.5 in /opt/mamba/lib/python3.10/site-packages (from requests->webdriver-manager) (3.4)\n",
      "Requirement already satisfied: urllib3<3,>=1.21.1 in /opt/mamba/lib/python3.10/site-packages (from requests->webdriver-manager) (1.26.18)\n",
      "Requirement already satisfied: certifi>=2017.4.17 in /opt/mamba/lib/python3.10/site-packages (from requests->webdriver-manager) (2023.11.17)\n",
      "Downloading webdriver_manager-4.0.1-py2.py3-none-any.whl (27 kB)\n",
      "Installing collected packages: python-dotenv, webdriver-manager\n",
      "Successfully installed python-dotenv-1.0.0 webdriver-manager-4.0.1\n"
     ]
    }
   ],
   "source": [
    "!pip install -q lxml\n",
    "!pip install webdriver-manager\n",
    "\n",
    "import bs4\n",
    "import lxml\n",
    "import pandas as pd\n",
    "import urllib\n",
    "\n",
    "from urllib import request"
   ]
  },
  {
   "cell_type": "code",
   "execution_count": 2,
   "id": "91fb09d4-bc2a-40c6-9ae1-7e67dbaaca50",
   "metadata": {},
   "outputs": [],
   "source": [
    "url_match=\"http://bkref.com/pi/shareit/r5ARa\"\n",
    "request_text = request.urlopen(url_match).read()\n",
    "#print(request_text[:1000])\n",
    "page = bs4.BeautifulSoup(request_text, \"lxml\")\n",
    "#print(page)"
   ]
  },
  {
   "cell_type": "code",
   "execution_count": 3,
   "id": "a997bad6-1a8a-489d-b28e-34d819b60c03",
   "metadata": {},
   "outputs": [],
   "source": [
    "tableau_match = page.find('table', {'class' : 'sortable stats_table now_sortable modifying'})\n",
    "#print(tableau_match)"
   ]
  },
  {
   "cell_type": "code",
   "execution_count": 4,
   "id": "20c81f88-fcec-4b12-9631-7ffc7fbd34c8",
   "metadata": {},
   "outputs": [],
   "source": [
    "table_body = tableau_match.find('tbody')\n",
    "rows = table_body.find_all('tr')\n",
    "#print(rows[1])"
   ]
  },
  {
   "cell_type": "code",
   "execution_count": 5,
   "id": "e38489a8-0408-4950-b4b7-db34561d8caa",
   "metadata": {},
   "outputs": [],
   "source": [
    "for row in rows:\n",
    "    cols = row.find_all('td')\n",
    "    cols = [ele.text.strip() for ele in cols]\n",
    "    #print(cols)"
   ]
  },
  {
   "cell_type": "code",
   "execution_count": 6,
   "id": "87b6861e-06e7-4c34-97e8-74e22ba56d8e",
   "metadata": {},
   "outputs": [],
   "source": [
    "dico_participants = dict()\n",
    "for row in rows:\n",
    "    cols = row.find_all('td')\n",
    "    cols = [ele.text.strip() for ele in cols]\n",
    "    if len(cols) > 0 : \n",
    "        dico_participants[cols[0]] = cols[1:]\n",
    "#dico_participants"
   ]
  },
  {
   "cell_type": "code",
   "execution_count": 8,
   "id": "b54de855-dd54-4c02-b938-dff7719bbbc3",
   "metadata": {},
   "outputs": [],
   "source": [
    "data_participants = pd.DataFrame.from_dict(dico_participants,orient='index')\n",
    "data_participants.to_csv('data/Basic Box Score Stats.csv')"
   ]
  },
  {
   "cell_type": "code",
   "execution_count": null,
   "id": "63b94367-8da5-4845-9515-b1cf39d4b5a1",
   "metadata": {},
   "outputs": [],
   "source": []
  }
 ],
 "metadata": {
  "kernelspec": {
   "display_name": "Python 3 (ipykernel)",
   "language": "python",
   "name": "python3"
  },
  "language_info": {
   "codemirror_mode": {
    "name": "ipython",
    "version": 3
   },
   "file_extension": ".py",
   "mimetype": "text/x-python",
   "name": "python",
   "nbconvert_exporter": "python",
   "pygments_lexer": "ipython3",
   "version": "3.10.13"
  }
 },
 "nbformat": 4,
 "nbformat_minor": 5
}
