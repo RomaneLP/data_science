{
 "cells": [
  {
   "cell_type": "code",
   "execution_count": 2,
   "id": "39e05619-9025-4570-9900-0ec30af8ea61",
   "metadata": {},
   "outputs": [
    {
     "name": "stdout",
     "output_type": "stream",
     "text": [
      "Collecting webdriver-manager\n",
      "  Downloading webdriver_manager-4.0.1-py2.py3-none-any.whl.metadata (12 kB)\n",
      "Requirement already satisfied: requests in /opt/mamba/lib/python3.10/site-packages (from webdriver-manager) (2.31.0)\n",
      "Collecting python-dotenv (from webdriver-manager)\n",
      "  Downloading python_dotenv-1.0.0-py3-none-any.whl (19 kB)\n",
      "Requirement already satisfied: packaging in /opt/mamba/lib/python3.10/site-packages (from webdriver-manager) (23.1)\n",
      "Requirement already satisfied: charset-normalizer<4,>=2 in /opt/mamba/lib/python3.10/site-packages (from requests->webdriver-manager) (3.2.0)\n",
      "Requirement already satisfied: idna<4,>=2.5 in /opt/mamba/lib/python3.10/site-packages (from requests->webdriver-manager) (3.4)\n",
      "Requirement already satisfied: urllib3<3,>=1.21.1 in /opt/mamba/lib/python3.10/site-packages (from requests->webdriver-manager) (1.26.18)\n",
      "Requirement already satisfied: certifi>=2017.4.17 in /opt/mamba/lib/python3.10/site-packages (from requests->webdriver-manager) (2023.11.17)\n",
      "Downloading webdriver_manager-4.0.1-py2.py3-none-any.whl (27 kB)\n",
      "Installing collected packages: python-dotenv, webdriver-manager\n",
      "Successfully installed python-dotenv-1.0.0 webdriver-manager-4.0.1\n"
     ]
    }
   ],
   "source": [
    "!pip install -q lxml\n",
    "!pip install webdriver-manager\n",
    "\n",
    "import bs4\n",
    "import lxml\n",
    "import pandas as pd\n",
    "import urllib\n",
    "\n",
    "from urllib import request"
   ]
  },
  {
   "cell_type": "code",
   "execution_count": 9,
   "id": "91fb09d4-bc2a-40c6-9ae1-7e67dbaaca50",
   "metadata": {},
   "outputs": [],
   "source": [
    "url_match=\"http://bkref.com/pi/shareit/96Tr6\"\n",
    "request_text = request.urlopen(url_match).read()\n",
    "#print(request_text[:1000])\n",
    "page = bs4.BeautifulSoup(request_text, \"lxml\")\n",
    "#print(page)"
   ]
  },
  {
   "cell_type": "code",
   "execution_count": 10,
   "id": "a997bad6-1a8a-489d-b28e-34d819b60c03",
   "metadata": {},
   "outputs": [],
   "source": [
    "tableau_match = page.find('table', {'class' : 'sortable stats_table now_sortable modifying'})\n",
    "#print(tableau_match)"
   ]
  },
  {
   "cell_type": "code",
   "execution_count": 11,
   "id": "20c81f88-fcec-4b12-9631-7ffc7fbd34c8",
   "metadata": {},
   "outputs": [],
   "source": [
    "table_body = tableau_match.find('tbody')\n",
    "rows = table_body.find_all('tr')\n",
    "#print(rows[1])"
   ]
  },
  {
   "cell_type": "code",
   "execution_count": 12,
   "id": "e38489a8-0408-4950-b4b7-db34561d8caa",
   "metadata": {},
   "outputs": [],
   "source": [
    "for row in rows:\n",
    "    cols = row.find_all('td')\n",
    "    cols = [ele.text.strip() for ele in cols]\n",
    "    #print(cols)"
   ]
  },
  {
   "cell_type": "code",
   "execution_count": 45,
   "id": "87b6861e-06e7-4c34-97e8-74e22ba56d8e",
   "metadata": {},
   "outputs": [],
   "source": [
    "dico_participants = dict()\n",
    "for row in rows:\n",
    "    nom = row.find_all('th')\n",
    "    nom = [ele.text.strip() for ele in nom]\n",
    "    cols = row.find_all('td')\n",
    "    cols = [ele.text.strip() for ele in cols]\n",
    "    cols = nom + cols\n",
    "    if len(cols) > 0 : \n",
    "        dico_participants[cols[0]] = cols[1:]\n",
    "#dico_participants"
   ]
  },
  {
   "cell_type": "code",
   "execution_count": 50,
   "id": "63b94367-8da5-4845-9515-b1cf39d4b5a1",
   "metadata": {},
   "outputs": [
    {
     "name": "stdout",
     "output_type": "stream",
     "text": [
      "['MP', 'FG', 'FGA', 'FG%', '3P', '3PA', '3P%', 'FT', 'FTA', 'FT%', 'ORB', 'DRB', 'TRB', 'AST', 'STL', 'BLK', 'TOV', 'PF', 'PTS', '+/-']\n"
     ]
    }
   ],
   "source": [
    "table_head = tableau_match.find('thead')\n",
    "titres_col = table_head.find_all('th')\n",
    "titres_col = [ele.text.strip() for ele in titres_col[3:]]\n",
    "print(titres_col)"
   ]
  },
  {
   "cell_type": "code",
   "execution_count": 53,
   "id": "b54de855-dd54-4c02-b938-dff7719bbbc3",
   "metadata": {},
   "outputs": [
    {
     "name": "stdout",
     "output_type": "stream",
     "text": [
      "                      MP FG FGA    FG% 3P 3PA   3P% FT FTA    FT% ORB DRB TRB  \\\n",
      "Devin Vassell      35:15  9  17   .529  1   6  .167  4   5   .800   1   4   5   \n",
      "Zach Collins       31:55  6  10   .600  0   4  .000  2   2  1.000   1   4   5   \n",
      "Keldon Johnson     31:44  7  15   .467  1   3  .333  2   3   .667   2   7   9   \n",
      "Jeremy Sochan      28:41  4  12   .333  2   4  .500  3   6   .500   3   5   8   \n",
      "Victor Wembanyama  23:19  6   9   .667  3   5  .600  0   1   .000   0   5   5   \n",
      "Tre Jones          25:06  5   7   .714  2   3  .667  4   4  1.000   1   4   5   \n",
      "Cedi Osman         22:16  5  10   .500  2   6  .333  0   0          0   0   0   \n",
      "Malaki Branham     17:45  3   7   .429  0   3  .000  1   1  1.000   0   2   2   \n",
      "Charles Bassey     13:03  1   1  1.000  0   0        0   0          1   4   5   \n",
      "Doug McDermott     10:56  0   1   .000  0   1  .000  0   0          0   1   1   \n",
      "\n",
      "                  AST STL BLK TOV PF PTS  +/-  \n",
      "Devin Vassell       3   2   0   2  2  23   +4  \n",
      "Zach Collins        3   1   2   3  4  14   -4  \n",
      "Keldon Johnson      7   0   0   3  4  17    0  \n",
      "Jeremy Sochan       5   1   0   3  4  13  -10  \n",
      "Victor Wembanyama   2   2   1   5  5  15    0  \n",
      "Tre Jones           6   0   0   1  0  16   +1  \n",
      "Cedi Osman          2   0   1   0  2  12  -11  \n",
      "Malaki Branham      2   1   0   1  1   7   -2  \n",
      "Charles Bassey      2   1   0   1  0   2   -6  \n",
      "Doug McDermott      1   0   1   0  1   0   -7  \n"
     ]
    }
   ],
   "source": [
    "data_participants = pd.DataFrame.from_dict(dico_participants,orient='index', columns = titres_col)\n",
    "data_participants.to_csv('data/Basic Box Score Stats.csv')\n",
    "print(data_participants)"
   ]
  },
  {
   "cell_type": "code",
   "execution_count": null,
   "id": "f7e2e1a3-37a9-4a27-adce-21ec6e282c46",
   "metadata": {},
   "outputs": [],
   "source": []
  }
 ],
 "metadata": {
  "kernelspec": {
   "display_name": "Python 3 (ipykernel)",
   "language": "python",
   "name": "python3"
  },
  "language_info": {
   "codemirror_mode": {
    "name": "ipython",
    "version": 3
   },
   "file_extension": ".py",
   "mimetype": "text/x-python",
   "name": "python",
   "nbconvert_exporter": "python",
   "pygments_lexer": "ipython3",
   "version": "3.10.13"
  }
 },
 "nbformat": 4,
 "nbformat_minor": 5
}
