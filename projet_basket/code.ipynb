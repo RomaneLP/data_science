{
 "cells": [
  {
   "cell_type": "markdown",
   "id": "b835fee3-52c9-4013-83c6-32a33e518f16",
   "metadata": {},
   "source": [
    "# Projet Python pour la data science"
   ]
  },
  {
   "cell_type": "markdown",
   "id": "cbd028b1-8ba9-43b8-8694-780da68c94ac",
   "metadata": {},
   "source": [
    "### Auteurs: Arthur LEROUDIER, Romane LE POTIER"
   ]
  },
  {
   "cell_type": "markdown",
   "id": "2fa20487-31c8-4abe-ae30-c15f69cdc01a",
   "metadata": {},
   "source": [
    "##### L'objectif de ce notebook est de présenter le projet que nous avons effectué dans le cadre de l'unité d'enseignement Python pour la data science à l'ENSAE. Ce projet contient une première partie sur la récupération d'une base de données par web scraping puis une seconde partie nettoyage de la base de données et visualisation et une dernière partie sur la modélisation."
   ]
  },
  {
   "cell_type": "markdown",
   "id": "aebcc8df-3b18-4391-9aaa-7b13654d0841",
   "metadata": {},
   "source": [
    "# Quel est l'importance d'un joueur sur l'issu d'un match de basket ?"
   ]
  },
  {
   "cell_type": "markdown",
   "id": "ce66f4c9-f6e2-4735-80d6-2a3ce43944b5",
   "metadata": {},
   "source": [
    "## Installation préalable"
   ]
  },
  {
   "cell_type": "code",
   "execution_count": null,
   "id": "d4636067-e7da-4d39-8b77-8398874122b0",
   "metadata": {},
   "outputs": [],
   "source": [
    "!pip install -q lxml\n",
    "!pip install webdriver-manager"
   ]
  },
  {
   "cell_type": "markdown",
   "id": "40d9ad0e-0559-409b-be46-4e0a22fbc7bc",
   "metadata": {},
   "source": [
    "## Importation des modules utiles"
   ]
  },
  {
   "cell_type": "code",
   "execution_count": null,
   "id": "57e9703b-f719-4ba7-8159-a45f20c29cb8",
   "metadata": {},
   "outputs": [],
   "source": [
    "import bs4\n",
    "import lxml\n",
    "import pandas as pd\n",
    "from urllib import request\n",
    "import os\n",
    "import numpy as np\n",
    "import sklearn as sk\n",
    "from sklearn.linear_model import LinearRegression"
   ]
  },
  {
   "cell_type": "markdown",
   "id": "0b725d40-3449-4da2-8c69-7ecd110951e3",
   "metadata": {},
   "source": [
    "# Récupération et traitement des données"
   ]
  },
  {
   "cell_type": "code",
   "execution_count": null,
   "id": "f7f3fa8d-ec78-4908-b35a-d36634174b68",
   "metadata": {},
   "outputs": [],
   "source": []
  }
 ],
 "metadata": {
  "kernelspec": {
   "display_name": "Python 3 (ipykernel)",
   "language": "python",
   "name": "python3"
  },
  "language_info": {
   "codemirror_mode": {
    "name": "ipython",
    "version": 3
   },
   "file_extension": ".py",
   "mimetype": "text/x-python",
   "name": "python",
   "nbconvert_exporter": "python",
   "pygments_lexer": "ipython3",
   "version": "3.10.13"
  }
 },
 "nbformat": 4,
 "nbformat_minor": 5
}
