{
 "cells": [
  {
   "cell_type": "code",
   "execution_count": 3,
   "id": "8c90ef84-e580-4d57-9454-50c6e2752628",
   "metadata": {},
   "outputs": [
    {
     "name": "stdout",
     "output_type": "stream",
     "text": [
      "Requirement already satisfied: webdriver-manager in /opt/mamba/lib/python3.10/site-packages (4.0.1)\n",
      "Requirement already satisfied: requests in /opt/mamba/lib/python3.10/site-packages (from webdriver-manager) (2.31.0)\n",
      "Requirement already satisfied: python-dotenv in /opt/mamba/lib/python3.10/site-packages (from webdriver-manager) (1.0.0)\n",
      "Requirement already satisfied: packaging in /opt/mamba/lib/python3.10/site-packages (from webdriver-manager) (23.1)\n",
      "Requirement already satisfied: charset-normalizer<4,>=2 in /opt/mamba/lib/python3.10/site-packages (from requests->webdriver-manager) (3.2.0)\n",
      "Requirement already satisfied: idna<4,>=2.5 in /opt/mamba/lib/python3.10/site-packages (from requests->webdriver-manager) (3.4)\n",
      "Requirement already satisfied: urllib3<3,>=1.21.1 in /opt/mamba/lib/python3.10/site-packages (from requests->webdriver-manager) (1.26.18)\n",
      "Requirement already satisfied: certifi>=2017.4.17 in /opt/mamba/lib/python3.10/site-packages (from requests->webdriver-manager) (2023.11.17)\n"
     ]
    }
   ],
   "source": [
    "!pip install -q lxml\n",
    "!pip install webdriver-manager\n",
    "\n",
    "import bs4\n",
    "import lxml\n",
    "import pandas\n",
    "import urllib\n",
    "\n",
    "from urllib import request\n",
    "\n"
   ]
  },
  {
   "cell_type": "code",
   "execution_count": 4,
   "id": "1683f7e7-226e-43f9-9e9f-2eed1823e26d",
   "metadata": {},
   "outputs": [],
   "source": [
    "url_ligue_1 = \"https://fr.wikipedia.org/wiki/Championnat_de_France_de_football_2019-2020\"\n",
    "    \n",
    "request_text = request.urlopen(url_ligue_1).read()\n",
    "#print(request_text[:1000])\n",
    "page = bs4.BeautifulSoup(request_text, \"lxml\")\n"
   ]
  },
  {
   "cell_type": "code",
   "execution_count": 5,
   "id": "4fb077cb-9e18-42fb-97ab-2a40a76a71ca",
   "metadata": {},
   "outputs": [
    {
     "name": "stdout",
     "output_type": "stream",
     "text": [
      "<title>Championnat de France de football 2019-2020 — Wikipédia</title>\n"
     ]
    }
   ],
   "source": [
    "print(page.find(\"title\"))"
   ]
  },
  {
   "cell_type": "code",
   "execution_count": 6,
   "id": "476224f2-eb71-4917-949f-d19c3b4498a1",
   "metadata": {},
   "outputs": [],
   "source": [
    "#trouver le tableau\n",
    "# on identifie le tableau en question : c'est le premier qui a cette classe \"wikitable sortable\"\n",
    "tableau_participants = page.find('table', {'class' : 'wikitable sortable'})\n",
    "#print(tableau_participants)"
   ]
  },
  {
   "cell_type": "code",
   "execution_count": null,
   "id": "302d7cb1-ed89-4ca0-8ffa-d238e9cff4c9",
   "metadata": {},
   "outputs": [],
   "source": []
  }
 ],
 "metadata": {
  "kernelspec": {
   "display_name": "Python 3 (ipykernel)",
   "language": "python",
   "name": "python3"
  },
  "language_info": {
   "codemirror_mode": {
    "name": "ipython",
    "version": 3
   },
   "file_extension": ".py",
   "mimetype": "text/x-python",
   "name": "python",
   "nbconvert_exporter": "python",
   "pygments_lexer": "ipython3",
   "version": "3.10.13"
  }
 },
 "nbformat": 4,
 "nbformat_minor": 5
}
